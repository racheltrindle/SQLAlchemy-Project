{
 "cells": [
  {
   "cell_type": "code",
   "execution_count": null,
   "metadata": {},
   "outputs": [],
   "source": [
    "### Instructions\n",
    "\n",
    "* Modify the `Surfer` class created during the previous activity so that it will function with SQLAlchemy.\n",
    "  * `__tablename__` should be \"surfers\"\n",
    "  * `surfer_id` should be an integer and the primary key\n",
    "  * `name` should be a string capable of holding 255 characters\n",
    "  * `hometown` should be a string capable of holding 255 characters\n",
    "  * `rank` should be an integer\n",
    "\n",
    "* Create a new class called `Board` which will function with SQLAlchemy and has the following parameters...\n",
    "  * `__tablename__` should be \"surfboards\"\n",
    "  * `id` should be an integer and the primary key\n",
    "  * `surfer_id` should be an integer that references a surfer_id in the \"surfers\" column\n",
    "  * `board_name` should be a string capable of holding 255 characters\n",
    "  * `color` should be a string capable of holding 255 characters\n",
    "  * `length` should be an integer\n",
    "\n",
    "* Pull a list of all of the surfers and surfboards already inside the database\n",
    "* Push a new surfer and surfboard to the tables on the database\n"
   ]
  },
  {
   "cell_type": "code",
   "execution_count": 22,
   "metadata": {},
   "outputs": [],
   "source": [
    "# Import SQL Alchemy\n",
    "from sqlalchemy import create_engine"
   ]
  },
  {
   "cell_type": "code",
   "execution_count": 23,
   "metadata": {},
   "outputs": [],
   "source": [
    "# Import and establish Base for which classes will be constructed \n",
    "from sqlalchemy.ext.declarative import declarative_base\n",
    "Base = declarative_base()"
   ]
  },
  {
   "cell_type": "code",
   "execution_count": 24,
   "metadata": {},
   "outputs": [],
   "source": [
    "# Import modules to declare columns and column data types\n",
    "from sqlalchemy import Column, Integer, String, Float"
   ]
  },
  {
   "cell_type": "code",
   "execution_count": 63,
   "metadata": {},
   "outputs": [],
   "source": [
    "# Create Surfer and Board classes\n",
    "# ----------------------------------\n",
    "# class Surfer(Base):\n",
    "#     __tablename__ = 'surfers'\n",
    "#     id = Column(Integer, primary_key=True)\n",
    "#     name = Column(String(255))\n",
    "#     hometown = Column(String(255))\n",
    "#     wipeouts = Column(Integer)\n",
    "#     rank = Column(Integer)\n",
    "\n",
    "# class Board(Base):\n",
    "#     __tablename__ = 'surfboards'\n",
    "#     id = Column(Integer, primary_key=True)\n",
    "#     surfer_id = Column(Integer)\n",
    "#     board_name = Column(String(255))\n",
    "#     color = Column(String(255))\n",
    "#     length = Column(Integer)\n",
    "\n",
    "class Rank(Base):\n",
    "    __tablename__='rank'\n",
    "    id = Column(Integer, primary_key=True)\n",
    "    rank= Column(Integer)"
   ]
  },
  {
   "cell_type": "code",
   "execution_count": 64,
   "metadata": {},
   "outputs": [],
   "source": [
    "# Create specific instances of the Surfer and Board classes\n",
    "surfer=Surfer(name = \"Bro\",hometown= \"Cali\", rank=2)\n",
    "board=Board(surfer_id =22, board_name = 'shark', color= 'yellow', length=5)\n",
    "rank = Rank(id=22, rank = 2)\n",
    "# board=Board(\"1\",\"shark\",\"yellow\",\"5\")\n",
    "# # ----------------------------------\n",
    "## Create a new surfer named \"Bruno\"\n",
    "## Create a new board and associate it with a surfer's ID"
   ]
  },
  {
   "cell_type": "code",
   "execution_count": 65,
   "metadata": {},
   "outputs": [],
   "source": [
    "# Create Database Connection\n",
    "# ----------------------------------\n",
    "engine = create_engine(\"sqlite:///surfer.sqlite\")\n",
    "conn = engine.connect()\n",
    "# Establish Connection to a sqlite database\n"
   ]
  },
  {
   "cell_type": "code",
   "execution_count": 66,
   "metadata": {},
   "outputs": [],
   "source": [
    "# Create both the Surfer and Board tables within the database\n",
    "Base.metadata.create_all(conn)"
   ]
  },
  {
   "cell_type": "code",
   "execution_count": 67,
   "metadata": {},
   "outputs": [],
   "source": [
    "# To push the objects made and query the server we use a Session object\n",
    "from sqlalchemy.orm import Session\n",
    "session = Session(bind=engine)"
   ]
  },
  {
   "cell_type": "code",
   "execution_count": 68,
   "metadata": {},
   "outputs": [],
   "source": [
    "# Add \"Bruno\" to the current session\n",
    "# Add \"Awwwyeah\" to the current session\n",
    "# Commit both objects to the database\n",
    "session.add(surfer)\n",
    "session.add(board)\n",
    "session.add(rank)\n",
    "session.commit()"
   ]
  },
  {
   "cell_type": "code",
   "execution_count": 70,
   "metadata": {},
   "outputs": [
    {
     "name": "stdout",
     "output_type": "stream",
     "text": [
      "Bro\n",
      "shark dont touch\n",
      "2\n",
      "kyle\n",
      "shark dont touch\n",
      "2\n",
      "Bro\n",
      "shark dont touch\n",
      "2\n"
     ]
    }
   ],
   "source": [
    "# Query the database and collect all of the surfers in the Surfer table\n",
    "surfer_list=session.query(Surfer)\n",
    "for surfer in surfer_list:\n",
    "    print(surfer.name)\n",
    "    print(board.board_name + \" dont touch\")\n",
    "    print(rank.rank)"
   ]
  },
  {
   "cell_type": "code",
   "execution_count": null,
   "metadata": {},
   "outputs": [],
   "source": []
  }
 ],
 "metadata": {
  "kernelspec": {
   "display_name": "Python 3",
   "language": "python",
   "name": "python3"
  },
  "language_info": {
   "codemirror_mode": {
    "name": "ipython",
    "version": 3
   },
   "file_extension": ".py",
   "mimetype": "text/x-python",
   "name": "python",
   "nbconvert_exporter": "python",
   "pygments_lexer": "ipython3",
   "version": "3.6.9"
  },
  "varInspector": {
   "cols": {
    "lenName": 16,
    "lenType": 16,
    "lenVar": 40
   },
   "kernels_config": {
    "python": {
     "delete_cmd_postfix": "",
     "delete_cmd_prefix": "del ",
     "library": "var_list.py",
     "varRefreshCmd": "print(var_dic_list())"
    },
    "r": {
     "delete_cmd_postfix": ") ",
     "delete_cmd_prefix": "rm(",
     "library": "var_list.r",
     "varRefreshCmd": "cat(var_dic_list()) "
    }
   },
   "types_to_exclude": [
    "module",
    "function",
    "builtin_function_or_method",
    "instance",
    "_Feature"
   ],
   "window_display": false
  }
 },
 "nbformat": 4,
 "nbformat_minor": 2
}
