{
 "cells": [
  {
   "cell_type": "code",
   "execution_count": null,
   "metadata": {},
   "outputs": [],
   "source": [
    "## Instructions\n",
    "\n",
    "* Create a `Surfer` class that has `name`, `hometown`, `rank`, and `wipeouts` instance variables.\n",
    "* Create a method called `speak` that prints \"Hangs loose, bruh!\"\n",
    "* Create a method called `biography` that prints the surfer's name and hometown.\n",
    "* Create a method called `cheer` that will print \"I totally rock man, no wipeouts!\" if the surfer has no wipeouts. Otherwise, it prints 'Bummer bruh, keep on keeping on!'.\n",
    "* Create two surfers that print out all their info and run all the methods.\n",
    "\n",
    "\n",
    "## Bonus\n",
    "\n",
    "* Add a method to your class that prints out how many surfers are currently shredding.\n",
    "\n",
    "### HINT\n",
    "\n",
    "* Create a class variable shared by all instances of `Surfer` and an instance variable to increment it each time a new surfer is created.\n",
    "\n",
    "* Refer to the [Python documentation on classes](https://docs.python.org/3/tutorial/classes.html)"
   ]
  },
  {
   "cell_type": "code",
   "execution_count": 1,
   "metadata": {},
   "outputs": [],
   "source": [
    "# Define the Surfer Class\n",
    "class Surfer:\n",
    "    def __init__ (self, name, hometown, rank, wipeouts):\n",
    "        self.name = name + \" dude\"\n",
    "        self.hometown = hometown + \" waves\"\n",
    "        self.rank = rank\n",
    "        self.wipeouts\n",
    "    def __repr__ (self):\n",
    "        return f'Name: {self.name}, Hometown: {self.hometown}, Rank:{self.rank}'\n",
    "    "
   ]
  },
  {
   "cell_type": "code",
   "execution_count": null,
   "metadata": {},
   "outputs": [],
   "source": [
    "# Create Surfers\n",
    "# --------------------------------------------------------------------------------\n"
   ]
  }
 ],
 "metadata": {
  "kernelspec": {
   "display_name": "Python 3",
   "language": "python",
   "name": "python3"
  },
  "language_info": {
   "codemirror_mode": {
    "name": "ipython",
    "version": 3
   },
   "file_extension": ".py",
   "mimetype": "text/x-python",
   "name": "python",
   "nbconvert_exporter": "python",
   "pygments_lexer": "ipython3",
   "version": "3.6.9"
  },
  "varInspector": {
   "cols": {
    "lenName": 16,
    "lenType": 16,
    "lenVar": 40
   },
   "kernels_config": {
    "python": {
     "delete_cmd_postfix": "",
     "delete_cmd_prefix": "del ",
     "library": "var_list.py",
     "varRefreshCmd": "print(var_dic_list())"
    },
    "r": {
     "delete_cmd_postfix": ") ",
     "delete_cmd_prefix": "rm(",
     "library": "var_list.r",
     "varRefreshCmd": "cat(var_dic_list()) "
    }
   },
   "types_to_exclude": [
    "module",
    "function",
    "builtin_function_or_method",
    "instance",
    "_Feature"
   ],
   "window_display": false
  }
 },
 "nbformat": 4,
 "nbformat_minor": 2
}
