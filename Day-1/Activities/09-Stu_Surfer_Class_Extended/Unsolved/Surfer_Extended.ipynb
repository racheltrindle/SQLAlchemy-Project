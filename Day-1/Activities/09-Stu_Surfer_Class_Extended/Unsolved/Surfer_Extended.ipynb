{
 "cells": [
  {
   "cell_type": "code",
   "execution_count": null,
   "metadata": {},
   "outputs": [],
   "source": [
    "## Instructions\n",
    "\n",
    "* Create a `Surfer` class that has `name`, `hometown`, `rank`, and `wipeouts` instance variables.\n",
    "* Create a method called `speak` that prints \"Hangs loose, bruh!\"\n",
    "* Create a method called `biography` that prints the surfer's name and hometown.\n",
    "* Create a method called `cheer` that will print \"I totally rock man, no wipeouts!\" if the surfer has no wipeouts. Otherwise, it prints 'Bummer bruh, keep on keeping on!'.\n",
    "* Create two surfers that print out all their info and run all the methods.\n",
    "\n",
    "\n",
    "## Bonus\n",
    "\n",
    "* Add a method to your class that prints out how many surfers are currently shredding.\n",
    "\n",
    "### HINT\n",
    "\n",
    "* Create a class variable shared by all instances of `Surfer` and an instance variable to increment it each time a new surfer is created.\n",
    "\n",
    "* Refer to the [Python documentation on classes](https://docs.python.org/3/tutorial/classes.html)"
   ]
  },
  {
   "cell_type": "code",
   "execution_count": 1,
   "metadata": {},
   "outputs": [
    {
     "ename": "NameError",
     "evalue": "name 'Surfer' is not defined",
     "output_type": "error",
     "traceback": [
      "\u001b[1;31m---------------------------------------------------------------------------\u001b[0m",
      "\u001b[1;31mNameError\u001b[0m                                 Traceback (most recent call last)",
      "\u001b[1;32m<ipython-input-1-0cbfbcbb9164>\u001b[0m in \u001b[0;36m<module>\u001b[1;34m\u001b[0m\n\u001b[1;32m----> 1\u001b[1;33m \u001b[0mkyle\u001b[0m \u001b[1;33m=\u001b[0m \u001b[0mSurfer\u001b[0m\u001b[1;33m(\u001b[0m\u001b[1;34m'kyle'\u001b[0m\u001b[1;33m,\u001b[0m\u001b[1;34m'Maui'\u001b[0m\u001b[1;33m,\u001b[0m\u001b[1;34m'1'\u001b[0m\u001b[1;33m,\u001b[0m\u001b[1;34m'0'\u001b[0m\u001b[1;33m)\u001b[0m\u001b[1;33m\u001b[0m\u001b[1;33m\u001b[0m\u001b[0m\n\u001b[0m",
      "\u001b[1;31mNameError\u001b[0m: name 'Surfer' is not defined"
     ]
    }
   ],
   "source": []
  },
  {
   "cell_type": "code",
   "execution_count": 30,
   "metadata": {},
   "outputs": [],
   "source": [
    "# Define the Surfer Class\n",
    "class surfer:\n",
    "    def __init__ (self, name, hometown, rank, wipeouts):\n",
    "        self.name = name\n",
    "        self.hometown = hometown \n",
    "        self.rank = rank\n",
    "        self.wipeouts = wipeouts\n",
    "\n",
    "    def speak(self):\n",
    "# Print out Expert object's name\n",
    "        print(f\"Hangs loose, bruh!\")\n",
    "    def biography(self):\n",
    "        print(f'{self.name,self.hometown}')\n",
    "    def cheer(self):\n",
    "        if self.wipeouts==0:\n",
    "            print(\"I rock\")\n",
    "        else:\n",
    "            print('bummer')\n"
   ]
  },
  {
   "cell_type": "code",
   "execution_count": 31,
   "metadata": {},
   "outputs": [
    {
     "name": "stdout",
     "output_type": "stream",
     "text": [
      "brad\n",
      "soCal\n",
      "5\n",
      "1\n",
      "Hangs loose, bruh!\n",
      "('brad', 'soCal')\n"
     ]
    }
   ],
   "source": [
    "surfer = surfer('brad','soCal','5','1')\n",
    "print(surfer.name)\n",
    "print(surfer.hometown)\n",
    "print(surfer.rank)\n",
    "print(surfer.wipeouts)\n",
    "surfer.speak()\n",
    "surfer.biography()"
   ]
  },
  {
   "cell_type": "code",
   "execution_count": 20,
   "metadata": {},
   "outputs": [
    {
     "data": {
      "text/plain": [
       "<__main__.Surfer at 0x195a963cc50>"
      ]
     },
     "execution_count": 20,
     "metadata": {},
     "output_type": "execute_result"
    }
   ],
   "source": [
    "Surfer"
   ]
  },
  {
   "cell_type": "code",
   "execution_count": null,
   "metadata": {},
   "outputs": [],
   "source": [
    "# Create Surfers\n",
    "# --------------------------------------------------------------------------------\n"
   ]
  }
 ],
 "metadata": {
  "kernelspec": {
   "display_name": "Python 3",
   "language": "python",
   "name": "python3"
  },
  "language_info": {
   "codemirror_mode": {
    "name": "ipython",
    "version": 3
   },
   "file_extension": ".py",
   "mimetype": "text/x-python",
   "name": "python",
   "nbconvert_exporter": "python",
   "pygments_lexer": "ipython3",
   "version": "3.6.9"
  },
  "varInspector": {
   "cols": {
    "lenName": 16,
    "lenType": 16,
    "lenVar": 40
   },
   "kernels_config": {
    "python": {
     "delete_cmd_postfix": "",
     "delete_cmd_prefix": "del ",
     "library": "var_list.py",
     "varRefreshCmd": "print(var_dic_list())"
    },
    "r": {
     "delete_cmd_postfix": ") ",
     "delete_cmd_prefix": "rm(",
     "library": "var_list.r",
     "varRefreshCmd": "cat(var_dic_list()) "
    }
   },
   "types_to_exclude": [
    "module",
    "function",
    "builtin_function_or_method",
    "instance",
    "_Feature"
   ],
   "window_display": false
  }
 },
 "nbformat": 4,
 "nbformat_minor": 2
}
