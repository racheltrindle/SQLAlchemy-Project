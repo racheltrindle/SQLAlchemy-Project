{
 "cells": [
  {
   "cell_type": "code",
   "execution_count": null,
   "metadata": {},
   "outputs": [],
   "source": [
    "# ### Instructions\n",
    "# * Create a class `Surfer` and initialize it with name, hometown, and rank instance variables.\n",
    "# * Create an _instance_ of a surfer. \n",
    "# * Then print the name, hometown and rank of your surfer object.\n",
    "\n",
    "# ### Bonus\n",
    "# * Create a while loop that will allow you to continuously create new instances of surfers using input().\n",
    "# * Keep the loop going until the user specifies otherwise."
   ]
  },
  {
   "cell_type": "code",
   "execution_count": null,
   "metadata": {},
   "outputs": [],
   "source": [
    "# Define the Surfer Class\n",
    "class Surfer:\n",
    "    def __init__ (self, name, hometown, rank):\n",
    "        self.name = name + \" dude\"\n",
    "        self.hometown = hometown + \" waves\"\n",
    "        self.rank = rank\n",
    "    def __repr__ (self):\n",
    "        return f'Name: {self.name}, Hometown: {self.hometown}, Rank:{self.rank}'"
   ]
  },
  {
   "cell_type": "code",
   "execution_count": null,
   "metadata": {},
   "outputs": [],
   "source": [
    "# Create an instance of the Surfer Class\n",
    "kyle = Surfer('kyle','Maui','1')\n",
    "brad = Surfer('brad','soCal','5')"
   ]
  },
  {
   "cell_type": "code",
   "execution_count": 3,
   "metadata": {},
   "outputs": [
    {
     "data": {
      "text/plain": [
       "(Name: kyle dude, Hometown: Maui waves, Rank:1,\n",
       " Name: brad dude, Hometown: soCal waves, Rank:5)"
      ]
     },
     "execution_count": 3,
     "metadata": {},
     "output_type": "execute_result"
    }
   ],
   "source": [
    "# Print the object's attributes\n",
    "kyle, brad"
   ]
  },
  {
   "cell_type": "code",
   "execution_count": null,
   "metadata": {},
   "outputs": [
    {
     "name": "stdout",
     "output_type": "stream",
     "text": [
      "name kyle\n",
      "hometown beach\n",
      "rank pro\n",
      "Name: kyle dude, Hometown: beach waves, Rank:pro\n"
     ]
    }
   ],
   "source": [
    "# ----BONUS----\n",
    "\n",
    "# Variable to keep track of changes to while looop\n",
    "\n",
    "more=True\n",
    "surfers = []\n",
    "while more:\n",
    "    in_name = input('name ')\n",
    "    in_hometown = input('hometown ')\n",
    "    in_rank = input('rank ')\n",
    "    surfer=Surfer(in_name, in_hometown, in_rank)\n",
    "    print(surfer)\n",
    "    inp = input(\"more?\")\n",
    "    if inp =='n':\n",
    "        more = False"
   ]
  },
  {
   "cell_type": "code",
   "execution_count": null,
   "metadata": {},
   "outputs": [],
   "source": []
  }
 ],
 "metadata": {
  "kernelspec": {
   "display_name": "Python [conda env:PythonData] *",
   "language": "python",
   "name": "conda-env-PythonData-py"
  },
  "language_info": {
   "codemirror_mode": {
    "name": "ipython",
    "version": 3
   },
   "file_extension": ".py",
   "mimetype": "text/x-python",
   "name": "python",
   "nbconvert_exporter": "python",
   "pygments_lexer": "ipython3",
   "version": "3.6.9"
  },
  "varInspector": {
   "cols": {
    "lenName": 16,
    "lenType": 16,
    "lenVar": 40
   },
   "kernels_config": {
    "python": {
     "delete_cmd_postfix": "",
     "delete_cmd_prefix": "del ",
     "library": "var_list.py",
     "varRefreshCmd": "print(var_dic_list())"
    },
    "r": {
     "delete_cmd_postfix": ") ",
     "delete_cmd_prefix": "rm(",
     "library": "var_list.r",
     "varRefreshCmd": "cat(var_dic_list()) "
    }
   },
   "types_to_exclude": [
    "module",
    "function",
    "builtin_function_or_method",
    "instance",
    "_Feature"
   ],
   "window_display": false
  }
 },
 "nbformat": 4,
 "nbformat_minor": 2
}
