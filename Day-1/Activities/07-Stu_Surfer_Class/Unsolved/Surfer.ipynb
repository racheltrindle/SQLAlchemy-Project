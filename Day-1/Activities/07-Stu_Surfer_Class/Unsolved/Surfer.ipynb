{
 "cells": [
  {
   "cell_type": "code",
   "execution_count": 1,
   "metadata": {},
   "outputs": [],
   "source": [
    "# ### Instructions\n",
    "# * Create a class `Surfer` and initialize it with name, hometown, and rank instance variables.\n",
    "# * Create an _instance_ of a surfer. \n",
    "# * Then print the name, hometown and rank of your surfer object.\n",
    "\n",
    "## Instructions\n",
    "* Create a `Surfer` class that has `name`, `hometown`, `rank`, and `wipeouts` instance variables.\n",
    "* Create a method called `speak` that prints \"Hangs loose, bruh!\"\n",
    "* Create a method called `biography` that prints the surfer's name and hometown.\n",
    "* Create a method called `cheer` that will print \"I totally rock man, no wipeouts!\" if the surfer has no wipeouts. Otherwise, it prints 'Bummer bruh, keep on keeping on!'.\n",
    "* Create two surfers that print out all their info and run all the methods.\n",
    "## Bonus\n",
    "* Add a method to your class that prints out how many surfers are currently shredding.\n",
    "### HINT\n",
    "* Create a class variable shared by all instances of `Surfer` and an instance variable to increment it each time a new surfer is created.\n",
    "* Refer to the [Python documentation on classes](https://docs.python.org/3/tutorial/classes.html)"
   ]
  },
  {
   "cell_type": "code",
   "execution_count": 2,
   "metadata": {},
   "outputs": [],
   "source": [
    "# Define the Surfer Class\n",
    "class Surfer:\n",
    "    def __init__ (self, name, hometown, rank):\n",
    "        self.name = name + \" dude\"\n",
    "        self.hometown = hometown + \" waves\"\n",
    "        self.rank = rank\n",
    "    def __repr__ (self):\n",
    "        return f'Name: {self.name}, Hometown: {self.hometown}, Rank:{self.rank}'"
   ]
  },
  {
   "cell_type": "code",
   "execution_count": 3,
   "metadata": {},
   "outputs": [],
   "source": [
    "# Create an instance of the Surfer Class\n",
    "kyle = Surfer('kyle','Maui','1')\n",
    "brad = Surfer('brad','soCal','5')"
   ]
  },
  {
   "cell_type": "code",
   "execution_count": 4,
   "metadata": {},
   "outputs": [
    {
     "data": {
      "text/plain": [
       "(Name: kyle dude, Hometown: Maui waves, Rank:1,\n",
       " Name: brad dude, Hometown: soCal waves, Rank:5)"
      ]
     },
     "execution_count": 4,
     "metadata": {},
     "output_type": "execute_result"
    }
   ],
   "source": [
    "# Print the object's attributes\n",
    "kyle, brad"
   ]
  },
  {
   "cell_type": "code",
   "execution_count": 5,
   "metadata": {},
   "outputs": [
    {
     "name": "stdout",
     "output_type": "stream",
     "text": [
      "name kyle\n",
      "hometown cali\n",
      "rank pro\n",
      "Name: kyle dude, Hometown: cali waves, Rank:pro\n",
      "more?brad\n",
      "name ocean\n",
      "hometown 5\n",
      "rank 4\n",
      "Name: ocean dude, Hometown: 5 waves, Rank:4\n",
      "more?n\n"
     ]
    }
   ],
   "source": [
    "# ----BONUS----\n",
    "\n",
    "# Variable to keep track of changes to while looop\n",
    "\n",
    "more=True\n",
    "surfers = []\n",
    "while more:\n",
    "    in_name = input('name ')\n",
    "    in_hometown = input('hometown ')\n",
    "    in_rank = input('rank ')\n",
    "    surfer=Surfer(in_name, in_hometown, in_rank)\n",
    "    surfers.append(surfer)\n",
    "    print(surfer)\n",
    "    inp = input(\"more?\")\n",
    "    if inp =='n':\n",
    "        more = False"
   ]
  },
  {
   "cell_type": "code",
   "execution_count": 18,
   "metadata": {},
   "outputs": [
    {
     "name": "stdout",
     "output_type": "stream",
     "text": [
      "kyle dude cali waves pro\n"
     ]
    },
    {
     "ename": "TypeError",
     "evalue": "'NoneType' object is not callable",
     "output_type": "error",
     "traceback": [
      "\u001b[1;31m---------------------------------------------------------------------------\u001b[0m",
      "\u001b[1;31mTypeError\u001b[0m                                 Traceback (most recent call last)",
      "\u001b[1;32m<ipython-input-18-72f5e6ca3ed0>\u001b[0m in \u001b[0;36m<module>\u001b[1;34m\u001b[0m\n\u001b[0;32m      1\u001b[0m \u001b[1;32mfor\u001b[0m \u001b[0ms\u001b[0m \u001b[1;32min\u001b[0m \u001b[0msurfers\u001b[0m\u001b[1;33m:\u001b[0m\u001b[1;33m\u001b[0m\u001b[1;33m\u001b[0m\u001b[0m\n\u001b[1;32m----> 2\u001b[1;33m     \u001b[0mprint\u001b[0m\u001b[1;33m(\u001b[0m\u001b[0ms\u001b[0m\u001b[1;33m.\u001b[0m\u001b[0mname\u001b[0m\u001b[1;33m,\u001b[0m \u001b[0ms\u001b[0m\u001b[1;33m.\u001b[0m\u001b[0mhometown\u001b[0m\u001b[1;33m,\u001b[0m \u001b[0ms\u001b[0m\u001b[1;33m.\u001b[0m\u001b[0mrank\u001b[0m\u001b[1;33m)\u001b[0m\u001b[1;33m(\u001b[0m\u001b[1;36m1\u001b[0m\u001b[1;33m)\u001b[0m\u001b[1;33m\u001b[0m\u001b[1;33m\u001b[0m\u001b[0m\n\u001b[0m",
      "\u001b[1;31mTypeError\u001b[0m: 'NoneType' object is not callable"
     ]
    }
   ],
   "source": [
    "for s in surfers:\n",
    "    print(s.name, s.hometown, s.rank)(1)"
   ]
  },
  {
   "cell_type": "code",
   "execution_count": 11,
   "metadata": {},
   "outputs": [
    {
     "data": {
      "text/plain": [
       "Name: ocean dude, Hometown: 5 waves, Rank:4"
      ]
     },
     "execution_count": 11,
     "metadata": {},
     "output_type": "execute_result"
    }
   ],
   "source": [
    "surfer"
   ]
  },
  {
   "cell_type": "code",
   "execution_count": null,
   "metadata": {},
   "outputs": [],
   "source": []
  },
  {
   "cell_type": "code",
   "execution_count": 13,
   "metadata": {},
   "outputs": [
    {
     "data": {
      "text/plain": [
       "__main__.Surfer"
      ]
     },
     "execution_count": 13,
     "metadata": {},
     "output_type": "execute_result"
    }
   ],
   "source": [
    "type(surfer)"
   ]
  },
  {
   "cell_type": "code",
   "execution_count": 14,
   "metadata": {},
   "outputs": [
    {
     "name": "stdout",
     "output_type": "stream",
     "text": [
      "<bound method Surfer.__repr__ of Name: ocean dude, Hometown: 5 waves, Rank:4>\n"
     ]
    }
   ],
   "source": [
    "print(surfer.__repr__)"
   ]
  },
  {
   "cell_type": "code",
   "execution_count": null,
   "metadata": {},
   "outputs": [],
   "source": []
  }
 ],
 "metadata": {
  "kernelspec": {
   "display_name": "Python [conda env:PythonData] *",
   "language": "python",
   "name": "conda-env-PythonData-py"
  },
  "language_info": {
   "codemirror_mode": {
    "name": "ipython",
    "version": 3
   },
   "file_extension": ".py",
   "mimetype": "text/x-python",
   "name": "python",
   "nbconvert_exporter": "python",
   "pygments_lexer": "ipython3",
   "version": "3.6.9"
  },
  "varInspector": {
   "cols": {
    "lenName": 16,
    "lenType": 16,
    "lenVar": 40
   },
   "kernels_config": {
    "python": {
     "delete_cmd_postfix": "",
     "delete_cmd_prefix": "del ",
     "library": "var_list.py",
     "varRefreshCmd": "print(var_dic_list())"
    },
    "r": {
     "delete_cmd_postfix": ") ",
     "delete_cmd_prefix": "rm(",
     "library": "var_list.r",
     "varRefreshCmd": "cat(var_dic_list()) "
    }
   },
   "types_to_exclude": [
    "module",
    "function",
    "builtin_function_or_method",
    "instance",
    "_Feature"
   ],
   "window_display": false
  }
 },
 "nbformat": 4,
 "nbformat_minor": 2
}
